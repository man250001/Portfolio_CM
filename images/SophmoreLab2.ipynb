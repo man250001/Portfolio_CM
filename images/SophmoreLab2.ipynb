{
 "cells": [
  {
   "cell_type": "markdown",
   "metadata": {},
   "source": [
    "![Cisco Networking Academy](images/cisco.png)"
   ]
  },
  {
   "cell_type": "markdown",
   "metadata": {},
   "source": [
    "# Lab: LED Line and Graphs Using PL-App\n",
    "\n",
    "### Topology\n",
    "![Topology](images/topology.png)\n",
    "\n",
    "### Objectives\n",
    " * Part 1: Building the Electronic Circuits\n",
    "    * Connect five LEDs to the Raspberry Pi to form a line\n",
    "    * Add a potentiometer to a RedBoard\n",
    "    * Connect the RedBoard to the Raspberry Pi\n",
    " * Part 2: Use the PL-App with the Raspberry Pi and RedBoard\n",
    "    * Connect the Raspberry Pi to PL-App\n",
    "    * Create a new Visual Programming application\n",
    "    * Create an application to read out analog values using RedBoard\n",
    " * Part 3: Visualize the Data in a Line Chart\n",
    "    * Create a Line Chart\n",
    "    * Modify the code to send a signal to PL-App\n",
    "\n",
    "### Background / Scenario\n",
    "In this lab, you will connect a RedBoard to a Raspberry Pi and learn how to control it from the Raspberry Pi via the PL-App interface. You will also learn how to represent the currently measured values from analog sensors on a line of LEDs and how to draw charts in the PL-App interface.\n",
    "\n",
    "### Required Resources\n",
    " * PC with Internet Access\n",
    " * Ethernet based connection to the Internet with DHCP and no traffic filtering\n",
    " * Raspberry Pi that is configured and imaged for PL-App access\n",
    " * RedBoard or compatible\n",
    " * Breadboard, resistors, LEDs, wires"
   ]
  },
  {
   "cell_type": "markdown",
   "metadata": {},
   "source": [
    "## Part 1:\tBuilding the Electronic Circuits\n",
    "\n",
    "### Step 1:\tConnect five LEDs to the Raspberry Pi to form a line\n",
    " 1. Insert the five LEDs to the breadboard. The cathode should be left of the anode leg for each LED.\n",
    " 2. Insert the five 330Ohm resistors to the breadboard. Each resistor should be aligned with the cathode leg of LED. Use the ground row to connect all resistors to the common ground.\n",
    " 3. Connect the ground jumper wire to physical pin 9 on the Raspberry Pi.  Typically, the color black is used to indicate ground.\n",
    " 4. Use a jumper wire to connect the anode leg of the first LED to the GPIO BCM pin number 18, located at physical pin 12.\n",
    " 5. Use a second jumper wire to connect the second LED to GPIO BCM pin number 27, located at physical pin 13.\n",
    " 6. Use a third jumper wire to connect the third LED to GPIO BCM pin number 22, located at physical pin 15.\n",
    " 7. Use a fourth jumper wire to connect the fourth LED to GPIO BCM pin number 23, located at physical pin 16.\n",
    " 8. Use a fifth jumper wire to connect the fifth LED to GPIO BCM pin number 24, located at physical pin 18.\n",
    "Note: It is good practice to identify circuits by color. Try using the colors of the rainbow (ROYGBIV) to match wires with LEDs.\n",
    "![rpi_breadboard_leds](images/rpi_breadboard_leds.png)\n",
    "![Raspberry Pi Pinout](images/Raspberry_Pi_3_Model_B_pinout.png)"
   ]
  },
  {
   "cell_type": "markdown",
   "metadata": {},
   "source": [
    "### Step 2:\tAdd a potentiometer to a RedBoard\n",
    " 1. To simulate an analog sensor, add a 10kOhm potentiometer to the other side of the breadboard.\n",
    " 2. Connect a black jumper wire to a hole aligned with the right leg of the potentiometer. Connect the other end of the jumper wire to the GND on the RedBoard.\n",
    " 3. Connect a red jumper wire to a hole aligned with the left leg of the potentiometer. Connect the other end of the red jumper wire to the +5V output on the RedBoard.\n",
    " 4. Connect a green jumper wire to a hole aligned with the middle leg of the potentiometer. Connect the other end of the green jumper wire to the A0 output on the RedBoard.\n",
    " 6. Using a screwdriver, gently turn the knob of the potentiometer to the left, then to the right. Find the middle position and leave the knob there for now.\n",
    "![arduino_breadboard_potentiometer](images/arduino_breadboard_potentiometer.png)"
   ]
  },
  {
   "cell_type": "markdown",
   "metadata": {},
   "source": [
    "### Step 3:\tConnect the RedBoard to the Raspberry Pi\n",
    "Using a USB cable, connect the RedBoard to the Raspberry Pi.\n",
    "\n",
    "Note: Since the RedBoard is powered directly from this USB connection, there is no need to provide any additional power to the RedBoard. "
   ]
  },
  {
   "cell_type": "markdown",
   "metadata": {},
   "source": [
    "## Part 2:\tUse the PL-App with Raspberry Pi and RedBoard"
   ]
  },
  {
   "cell_type": "markdown",
   "metadata": {},
   "source": [
    "### Step 1:\tIdentify the RedBoard's serial communication device on Linux\n",
    " 1. The RedBoard (or Arduino UNO board) is connected to the Raspberry Pi using a USB cable. The USB cable not only provides power to the RedBoard, but also provides a serial communication device that can be used to programm the RedBoard and exchnage data. On Windows the serial communication device is identified as \"COM1, COM2, ...\" port, on Linux it's usually /dev/ttyUSB0, /dev/ttyUSB1, ... or /dev/ttyACM0, /dev/ttyACM1, ...\n",
    " 2. Identify the name of the RedBoard serial communication device on the Linux PL-App OS, by executing the cell bellow. The cell bellow contains a bash script that idenfifies the device name. Remember the name of the serial communication device - it will be needed for later work.\n",
    "\n",
    "Example output: ![identify_serial_device](images/identify_serial_device.png)"
   ]
  },
  {
   "cell_type": "code",
   "execution_count": 1,
   "metadata": {},
   "outputs": [
    {
     "name": "stdout",
     "output_type": "stream",
     "text": [
      "ttyUSB0\n"
     ]
    }
   ],
   "source": [
    "%%bash\n",
    "# ^^^ The commands below are to be executed as a Linux Bash commands. \n",
    "# You can get the same output by opening a terminal connection to the device and executing these commands manually.\n",
    "\n",
    "dmesg | grep -v disconnect | grep -Eo \"tty(ACM|USB).\" | tail -1"
   ]
  },
  {
   "cell_type": "markdown",
   "metadata": {},
   "source": [
    "### Step 2:\tFlashing RedBoard with Firmata firmware \n",
    "Firmata is a serial communication protocol that enables to control the RedBoard (Arduino boards) over a serial interface, without the need to reflash the RedBoard every time with a new problem specific firmware. \n",
    "\n",
    "The controlling device, in this case the PL-App Raspberry Pi uses the RedBoard's serial communication device to send a receive Firmata messages. These messages can be for example control commands which in a human language could be represented as: \"*Hi RedBoard, what is the current value of the Analog Input Pin 0?*\", or \"*Hi RedBoard, turn on the GPIO pin 13*\", etc.\n",
    "\n",
    "Flashing the Firmata firmware on a RedBoard is usually a one time operation. If the firmware on the RedBoard is not reflashed with a different code, it can always exchange data and control messages with any device that talks firmata.\n",
    "\n",
    " 1. If it already contains firmwata, you can skip this step.\n",
    " 2. If your RedBoard does not already contain the Firmata firmwata, execute the cell below. \n",
    " 3. Make sure to set the corrent name of the RedBoard's serial communication device (*i.e. /dev/ttyUSB0, /dev/ttyACM0, ...*) in the **flash Firmata to Arduino on port** block below (or the resulting python code).\n",
    " \n",
    "Example output: ![firmata_flash](images/firmata_flash.png)"
   ]
  },
  {
   "cell_type": "code",
   "execution_count": 1,
   "metadata": {
    "blockly": {
     "display": true,
     "save": "<xml xmlns=\"http://www.w3.org/1999/xhtml\"><block type=\"text_print\" x=\"39\" y=\"29\"><value name=\"TEXT\"><block type=\"text\"><field name=\"TEXT\">Flashing Firmata to a RedBoard/Arduino connected as a USB serial device</field></block></value><next><block type=\"arduino_flash_firmata\"><value name=\"port\"><block type=\"text\"><field name=\"TEXT\">/dev/ttyUSB0</field></block></value></block></next></block></xml>"
    }
   },
   "outputs": [
    {
     "name": "stdout",
     "output_type": "stream",
     "text": [
      "Flashing Firmata to a RedBoard/Arduino connected as a USB serial device\n",
      "Flashing Standard Firmata to a USB-connected Arduino. Please wait...\n",
      "Done flashing.\n"
     ]
    },
    {
     "data": {
      "text/plain": [
       "0"
      ]
     },
     "execution_count": 1,
     "metadata": {},
     "output_type": "execute_result"
    }
   ],
   "source": [
    "import chestnut.arduino\n",
    "\n",
    "\n",
    "print('Flashing Firmata to a RedBoard/Arduino connected as a USB serial device')\n",
    "chestnut.arduino.flash_firmata(\"uno\", '/dev/ttyUSB0')\n"
   ]
  },
  {
   "cell_type": "markdown",
   "metadata": {},
   "source": [
    "### Step 3:\tCreate an application to read out analog values using RedBoard\n",
    " 1. Create the following Blockly program in the Visual Programming cell below.\n",
    "    1. The visual code displayed here starts with setting the BCM pin numbering scheme.\n",
    "    2. Setup the GPIO pins as OUTput for the pins with LEDs connected.\n",
    "    3. Setup Firmata communication with the RedBoard.\n",
    "    4. Execute a never ending loop to be repeated every 1 second.\n",
    "    5. Inside of the loop, read the value from the RedBoard's analog A0 pin.\n",
    "    6. Based on the value, turn on or off the LEDs connected to the GPIO pins of the Raspberry Pi. \n",
    "![blockly_code](images/blockly_code.png)\n",
    " 2. Run the Visual Programming cell with the Blockly code that you created. To stop the loop, pres the Stop icon next to the cell.\n",
    " 4. Turn the knob on the potentiometer. You should see the output values changing, as well as the LEDs turning on or off based on the current position of the knob.\n",
    " 5. Stop the program and return follow with the next part."
   ]
  },
  {
   "cell_type": "code",
   "execution_count": 6,
   "metadata": {
    "blockly": {
     "display": true,
     "save": "<xml xmlns=\"http://www.w3.org/1999/xhtml\"><block type=\"text_print\" x=\"44\" y=\"83\"><value name=\"TEXT\"><block type=\"text\"><field name=\"TEXT\"></field></block></value><next><block type=\"gpio_setmode\"><field name=\"mode\">GPIO.BCM</field><next><block type=\"gpio_setup\"><field name=\"mode\">GPIO.OUT</field><value name=\"channel\"><block type=\"math_number\"><field name=\"NUM\">18</field></block></value><next><block type=\"gpio_setup\"><field name=\"mode\">GPIO.OUT</field><value name=\"channel\"><block type=\"math_number\"><field name=\"NUM\">27</field></block></value><next><block type=\"gpio_setup\"><field name=\"mode\">GPIO.OUT</field><value name=\"channel\"><block type=\"math_number\"><field name=\"NUM\">22</field></block></value><next><block type=\"gpio_setup\"><field name=\"mode\">GPIO.OUT</field><value name=\"channel\"><block type=\"math_number\"><field name=\"NUM\">23</field></block></value><next><block type=\"gpio_setup\"><field name=\"mode\">GPIO.OUT</field><value name=\"channel\"><block type=\"math_number\"><field name=\"NUM\">24</field></block></value><next><block type=\"arduino_connect\"><value name=\"port\"><block type=\"text\"><field name=\"TEXT\">/dev/ttyUSB0</field></block></value><next><block type=\"time_sleep\"><value name=\"seconds\"><block type=\"math_number\"><field name=\"NUM\">1</field></block></value><next><block type=\"graphing_type\"><field name=\"type\">Line</field><value name=\"labels\"><block type=\"lists_create_with\"><mutation items=\"1\"></mutation><value name=\"ADD0\"><block type=\"text\"><field name=\"TEXT\">Knob Position</field></block></value></block></value><next><block type=\"controls_whileUntil\"><field name=\"MODE\">WHILE</field><value name=\"BOOL\"><block type=\"logic_boolean\"><field name=\"BOOL\">TRUE</field></block></value><statement name=\"DO\"><block type=\"time_sleep\"><value name=\"seconds\"><block type=\"math_number\"><field name=\"NUM\">1</field></block></value><next><block type=\"variables_set\"><field name=\"VAR\">analog_value</field><value name=\"VALUE\"><block type=\"arduino_analogRead\"><value name=\"pin\"><block type=\"math_number\"><field name=\"NUM\">0</field></block></value></block></value><next><block type=\"variables_set\"><field name=\"VAR\">analog_value</field><value name=\"VALUE\"><block type=\"math_arithmetic\"><field name=\"OP\">MULTIPLY</field><value name=\"A\"><block type=\"variables_get\"><field name=\"VAR\">analog_value</field></block></value><value name=\"B\"><block type=\"math_number\"><field name=\"NUM\">1024</field></block></value></block></value><next><block type=\"graphing_update\"><value name=\"values\"><block type=\"lists_create_with\"><mutation items=\"1\"></mutation><value name=\"ADD0\"><block type=\"variables_get\"><field name=\"VAR\">analog_value</field></block></value></block></value><next><block type=\"controls_if\"><mutation else=\"1\"></mutation><value name=\"IF0\"><block type=\"logic_compare\"><field name=\"OP\">GT</field><value name=\"A\"><block type=\"variables_get\"><field name=\"VAR\">analog_value</field></block></value><value name=\"B\"><block type=\"math_number\"><field name=\"NUM\">200</field></block></value></block></value><statement name=\"DO0\"><block type=\"gpio_output\"><value name=\"channel\"><block type=\"math_number\"><field name=\"NUM\">18</field></block></value><value name=\"state\"><block type=\"logic_boolean\"><field name=\"BOOL\">TRUE</field></block></value></block></statement><statement name=\"ELSE\"><block type=\"gpio_output\"><value name=\"channel\"><block type=\"math_number\"><field name=\"NUM\">18</field></block></value><value name=\"state\"><block type=\"logic_boolean\"><field name=\"BOOL\">FALSE</field></block></value></block></statement><next><block type=\"controls_if\"><mutation else=\"1\"></mutation><value name=\"IF0\"><block type=\"logic_compare\"><field name=\"OP\">GT</field><value name=\"A\"><block type=\"variables_get\"><field name=\"VAR\">analog_value</field></block></value><value name=\"B\"><block type=\"math_number\"><field name=\"NUM\">400</field></block></value></block></value><statement name=\"DO0\"><block type=\"gpio_output\"><value name=\"channel\"><block type=\"math_number\"><field name=\"NUM\">27</field></block></value><value name=\"state\"><block type=\"logic_boolean\"><field name=\"BOOL\">TRUE</field></block></value></block></statement><statement name=\"ELSE\"><block type=\"gpio_output\"><value name=\"channel\"><block type=\"math_number\"><field name=\"NUM\">27</field></block></value><value name=\"state\"><block type=\"logic_boolean\"><field name=\"BOOL\">FALSE</field></block></value></block></statement><next><block type=\"controls_if\"><mutation else=\"1\"></mutation><value name=\"IF0\"><block type=\"logic_compare\"><field name=\"OP\">GT</field><value name=\"A\"><block type=\"variables_get\"><field name=\"VAR\">analog_value</field></block></value><value name=\"B\"><block type=\"math_number\"><field name=\"NUM\">600</field></block></value></block></value><statement name=\"DO0\"><block type=\"gpio_output\"><value name=\"channel\"><block type=\"math_number\"><field name=\"NUM\">22</field></block></value><value name=\"state\"><block type=\"logic_boolean\"><field name=\"BOOL\">TRUE</field></block></value></block></statement><statement name=\"ELSE\"><block type=\"gpio_output\"><value name=\"channel\"><block type=\"math_number\"><field name=\"NUM\">22</field></block></value><value name=\"state\"><block type=\"logic_boolean\"><field name=\"BOOL\">FALSE</field></block></value></block></statement><next><block type=\"controls_if\"><mutation else=\"1\"></mutation><value name=\"IF0\"><block type=\"logic_compare\"><field name=\"OP\">GT</field><value name=\"A\"><block type=\"variables_get\"><field name=\"VAR\">analog_value</field></block></value><value name=\"B\"><block type=\"math_number\"><field name=\"NUM\">800</field></block></value></block></value><statement name=\"DO0\"><block type=\"gpio_output\"><value name=\"channel\"><block type=\"math_number\"><field name=\"NUM\">23</field></block></value><value name=\"state\"><block type=\"logic_boolean\"><field name=\"BOOL\">TRUE</field></block></value></block></statement><statement name=\"ELSE\"><block type=\"gpio_output\"><value name=\"channel\"><block type=\"math_number\"><field name=\"NUM\">23</field></block></value><value name=\"state\"><block type=\"logic_boolean\"><field name=\"BOOL\">FALSE</field></block></value></block></statement><next><block type=\"controls_if\"><mutation else=\"1\"></mutation><value name=\"IF0\"><block type=\"logic_compare\"><field name=\"OP\">GT</field><value name=\"A\"><block type=\"variables_get\"><field name=\"VAR\">analog_value</field></block></value><value name=\"B\"><block type=\"math_number\"><field name=\"NUM\">1000</field></block></value></block></value><statement name=\"DO0\"><block type=\"gpio_output\"><value name=\"channel\"><block type=\"math_number\"><field name=\"NUM\">24</field></block></value><value name=\"state\"><block type=\"logic_boolean\"><field name=\"BOOL\">TRUE</field></block></value></block></statement><statement name=\"ELSE\"><block type=\"gpio_output\"><value name=\"channel\"><block type=\"math_number\"><field name=\"NUM\">24</field></block></value><value name=\"state\"><block type=\"logic_boolean\"><field name=\"BOOL\">FALSE</field></block></value></block></statement></block></next></block></next></block></next></block></next></block></next></block></next></block></next></block></next></block></statement></block></next></block></next></block></next></block></next></block></next></block></next></block></next></block></next></block></next></block></next></block></xml>"
    }
   },
   "outputs": [
    {
     "data": {
      "text/html": [
       "\n",
       "            <button class=\"btn btn-default\" style=\"20px\">\n",
       "                <img src=\"/nbextensions/chestnut/fa-clone.png\">\n",
       "            </button>\n",
       "            <div id=\"chart_9a9be285-7d99-423c-ab94-7d4a6f25cb00\" style=\"height: calc(100% - 35px)\" data-highcharts-chart=\"0\"><div class=\"highcharts-container\" id=\"highcharts-0\" style=\"position: relative; overflow: hidden; width: 984px; height: 365px; text-align: left; line-height: normal; z-index: 0; -webkit-tap-highlight-color: rgba(0, 0, 0, 0); touch-action: none;\"><svg version=\"1.1\" style=\"font-family:&quot;Lucida Grande&quot;, &quot;Lucida Sans Unicode&quot;, Arial, Helvetica, sans-serif;font-size:12px;\" xmlns=\"http://www.w3.org/2000/svg\" width=\"984\" height=\"365\"><desc>Created with Highcharts 4.2.5</desc><defs><clipPath id=\"highcharts-1\"><rect x=\"0\" y=\"0\" width=\"893\" height=\"212\"></rect></clipPath></defs><rect x=\"0\" y=\"0\" width=\"984\" height=\"365\" fill=\"#FFFFFF\" class=\" highcharts-background\"></rect><path fill=\"none\" d=\"M 81 284.5 L 974 284.5\" stroke=\"#808080\" stroke-width=\"1\" visibility=\"visible\"></path><g class=\"highcharts-grid\"></g><g class=\"highcharts-grid\"><path fill=\"none\" d=\"M 81 284.5 L 974 284.5\" stroke=\"#D8D8D8\" stroke-width=\"1\" opacity=\"1\"></path><path fill=\"none\" d=\"M 81 242.5 L 974 242.5\" stroke=\"#D8D8D8\" stroke-width=\"1\" opacity=\"1\"></path><path fill=\"none\" d=\"M 81 199.5 L 974 199.5\" stroke=\"#D8D8D8\" stroke-width=\"1\" opacity=\"1\"></path><path fill=\"none\" d=\"M 81 157.5 L 974 157.5\" stroke=\"#D8D8D8\" stroke-width=\"1\" opacity=\"1\"></path><path fill=\"none\" d=\"M 81 114.5 L 974 114.5\" stroke=\"#D8D8D8\" stroke-width=\"1\" opacity=\"1\"></path><path fill=\"none\" d=\"M 81 71.5 L 974 71.5\" stroke=\"#D8D8D8\" stroke-width=\"1\" opacity=\"1\"></path></g><g class=\"highcharts-axis\"><path fill=\"none\" d=\"M 664.5 284 L 664.5 294\" stroke=\"#C0D0E0\" stroke-width=\"1\" opacity=\"1\"></path><path fill=\"none\" d=\"M 269.5 284 L 269.5 294\" stroke=\"#C0D0E0\" stroke-width=\"1\" opacity=\"1\"></path><path fill=\"none\" d=\"M 466.5 284 L 466.5 294\" stroke=\"#C0D0E0\" stroke-width=\"1\" opacity=\"1\"></path><path fill=\"none\" d=\"M 861.5 284 L 861.5 294\" stroke=\"#C0D0E0\" stroke-width=\"1\" opacity=\"1\"></path><path fill=\"none\" d=\"M 81 284.5 L 974 284.5\" stroke=\"#C0D0E0\" stroke-width=\"1\"></path></g><g class=\"highcharts-axis\"><text x=\"27.933300018310547\" text-anchor=\"middle\" transform=\"translate(0,0) rotate(270 27.933300018310547 178)\" class=\" highcharts-yaxis-title\" style=\"color:#707070;fill:#707070;\" y=\"178\">Value</text></g><g class=\"highcharts-series-group\"><path fill=\"#7cb5ec\" fill-opacity=\"0.25\" d=\"M 673 104.23718399999998 C 686.32 104.23718399999998 686.32 124.23718399999998 673 124.23718399999998 C 659.68 124.23718399999998 659.68 104.23718399999998 673 104.23718399999998 Z\"></path><g class=\"highcharts-series highcharts-series-0\" transform=\"translate(81,72) scale(1 1)\" clip-path=\"url(#highcharts-1)\"><path fill=\"none\" d=\"M 8.7549038514052 131.53850368000002 L 28.640290648366 131.53850368000002 L 48.565171758727 131.53850368000002 L 68.450558555689 131.53850368000002 L 88.33594535265 132.04214783999998 L 108.26082646301 166.3246848 L 128.12646610327 205.71313152 L 148.03160005693 212 L 167.91698685389 212 L 187.82212080756 185.18529024 L 207.72725476122 141.88925952 L 227.59289440148 119.64208127999999 L 247.49802835514 108.94398464 L 267.4426566222 100.12152832 L 287.32804341916 91.1254016 L 307.21343021612 86.88784383999999 L 327.11856416978 80.94831615999999 L 347.02369812344 76.36341759999999 L 366.94857923381 70.92753407999999 L 386.85371318747 66.34263551999999 L 406.73909998443 60.055767040000006 L 426.62448678139 51.56328447999999 L 446.50987357835 48.854026239999996 L 466.41500753201 40.882554880000015 L 486.32014148567 38.3296 L 506.20552828263 38.3296 L 526.11066223629 38.3296 L 546.01579618996 38.3296 L 565.92093014362 42.237183999999985 L 585.82606409728 55.31456512 L 605.69170373754 82.47661568000001 L 625.5770905345 168.54766592000001 L 645.48222448816 212 L 665.36761128512 206.73778688 L 685.25299808208 108.26667008 L 705.13838487904 38.3296 L 725.04351883271 38.3296 L 744.94865278637 38.3296 L 764.83403958333 119.31210752000001 L 784.71942638029 208.76973056 L 804.62456033395 212 L 824.50994713091 212 L 844.41508108457 212 L 864.33996219493 212 L 884.24509614859 212\" stroke=\"#7cb5ec\" stroke-width=\"2\" stroke-linejoin=\"round\" stroke-linecap=\"round\"></path><path fill=\"none\" d=\"M -1.2450961485948007 131.53850368000002 L 8.7549038514052 131.53850368000002 L 28.640290648366 131.53850368000002 L 48.565171758727 131.53850368000002 L 68.450558555689 131.53850368000002 L 88.33594535265 132.04214783999998 L 108.26082646301 166.3246848 L 128.12646610327 205.71313152 L 148.03160005693 212 L 167.91698685389 212 L 187.82212080756 185.18529024 L 207.72725476122 141.88925952 L 227.59289440148 119.64208127999999 L 247.49802835514 108.94398464 L 267.4426566222 100.12152832 L 287.32804341916 91.1254016 L 307.21343021612 86.88784383999999 L 327.11856416978 80.94831615999999 L 347.02369812344 76.36341759999999 L 366.94857923381 70.92753407999999 L 386.85371318747 66.34263551999999 L 406.73909998443 60.055767040000006 L 426.62448678139 51.56328447999999 L 446.50987357835 48.854026239999996 L 466.41500753201 40.882554880000015 L 486.32014148567 38.3296 L 506.20552828263 38.3296 L 526.11066223629 38.3296 L 546.01579618996 38.3296 L 565.92093014362 42.237183999999985 L 585.82606409728 55.31456512 L 605.69170373754 82.47661568000001 L 625.5770905345 168.54766592000001 L 645.48222448816 212 L 665.36761128512 206.73778688 L 685.25299808208 108.26667008 L 705.13838487904 38.3296 L 725.04351883271 38.3296 L 744.94865278637 38.3296 L 764.83403958333 119.31210752000001 L 784.71942638029 208.76973056 L 804.62456033395 212 L 824.50994713091 212 L 844.41508108457 212 L 864.33996219493 212 L 884.24509614859 212 L 894.24509614859 212\" stroke-linejoin=\"round\" visibility=\"visible\" stroke=\"rgba(192,192,192,0.0001)\" stroke-width=\"22\" class=\" highcharts-tracker\" style=\"\"></path></g><g class=\"highcharts-markers highcharts-series-0 highcharts-tracker\" transform=\"translate(81,72) scale(1 1)\" clip-path=\"url(#highcharts-2)\" style=\"\"><path fill=\"#7cb5ec\" d=\"M 8 127.53850368000002 C 13.328 127.53850368000002 13.328 135.53850368000002 8 135.53850368000002 C 2.6719999999999997 135.53850368000002 2.6719999999999997 127.53850368000002 8 127.53850368000002 Z\" stroke-width=\"1\"></path><path fill=\"#7cb5ec\" d=\"M 28 127.53850368000002 C 33.328 127.53850368000002 33.328 135.53850368000002 28 135.53850368000002 C 22.672 135.53850368000002 22.672 127.53850368000002 28 127.53850368000002 Z\"></path><path fill=\"#7cb5ec\" d=\"M 48 127.53850368000002 C 53.328 127.53850368000002 53.328 135.53850368000002 48 135.53850368000002 C 42.672 135.53850368000002 42.672 127.53850368000002 48 127.53850368000002 Z\"></path><path fill=\"#7cb5ec\" d=\"M 68 127.53850368000002 C 73.328 127.53850368000002 73.328 135.53850368000002 68 135.53850368000002 C 62.672 135.53850368000002 62.672 127.53850368000002 68 127.53850368000002 Z\"></path><path fill=\"#7cb5ec\" d=\"M 88 128.04214783999998 C 93.328 128.04214783999998 93.328 136.04214783999998 88 136.04214783999998 C 82.672 136.04214783999998 82.672 128.04214783999998 88 128.04214783999998 Z\"></path><path fill=\"#7cb5ec\" d=\"M 108 162.3246848 C 113.328 162.3246848 113.328 170.3246848 108 170.3246848 C 102.672 170.3246848 102.672 162.3246848 108 162.3246848 Z\"></path><path fill=\"#7cb5ec\" d=\"M 128 201.71313152 C 133.328 201.71313152 133.328 209.71313152 128 209.71313152 C 122.672 209.71313152 122.672 201.71313152 128 201.71313152 Z\"></path><path fill=\"#7cb5ec\" d=\"M 148 208 C 153.328 208 153.328 216 148 216 C 142.672 216 142.672 208 148 208 Z\"></path><path fill=\"#7cb5ec\" d=\"M 167 208 C 172.328 208 172.328 216 167 216 C 161.672 216 161.672 208 167 208 Z\"></path><path fill=\"#7cb5ec\" d=\"M 187 181.18529024 C 192.328 181.18529024 192.328 189.18529024 187 189.18529024 C 181.672 189.18529024 181.672 181.18529024 187 181.18529024 Z\"></path><path fill=\"#7cb5ec\" d=\"M 207 137.88925952 C 212.328 137.88925952 212.328 145.88925952 207 145.88925952 C 201.672 145.88925952 201.672 137.88925952 207 137.88925952 Z\"></path><path fill=\"#7cb5ec\" d=\"M 227 115.64208127999999 C 232.328 115.64208127999999 232.328 123.64208127999999 227 123.64208127999999 C 221.672 123.64208127999999 221.672 115.64208127999999 227 115.64208127999999 Z\"></path><path fill=\"#7cb5ec\" d=\"M 247 104.94398464 C 252.328 104.94398464 252.328 112.94398464 247 112.94398464 C 241.672 112.94398464 241.672 104.94398464 247 104.94398464 Z\"></path><path fill=\"#7cb5ec\" d=\"M 267 96.12152832 C 272.328 96.12152832 272.328 104.12152832 267 104.12152832 C 261.672 104.12152832 261.672 96.12152832 267 96.12152832 Z\"></path><path fill=\"#7cb5ec\" d=\"M 287 87.1254016 C 292.328 87.1254016 292.328 95.1254016 287 95.1254016 C 281.672 95.1254016 281.672 87.1254016 287 87.1254016 Z\"></path><path fill=\"#7cb5ec\" d=\"M 307 82.88784383999999 C 312.328 82.88784383999999 312.328 90.88784383999999 307 90.88784383999999 C 301.672 90.88784383999999 301.672 82.88784383999999 307 82.88784383999999 Z\"></path><path fill=\"#7cb5ec\" d=\"M 327 76.94831615999999 C 332.328 76.94831615999999 332.328 84.94831615999999 327 84.94831615999999 C 321.672 84.94831615999999 321.672 76.94831615999999 327 76.94831615999999 Z\" stroke-width=\"1\"></path><path fill=\"#7cb5ec\" d=\"M 347 72.36341759999999 C 352.328 72.36341759999999 352.328 80.36341759999999 347 80.36341759999999 C 341.672 80.36341759999999 341.672 72.36341759999999 347 72.36341759999999 Z\" stroke-width=\"1\"></path><path fill=\"#7cb5ec\" d=\"M 366 66.92753407999999 C 371.328 66.92753407999999 371.328 74.92753407999999 366 74.92753407999999 C 360.672 74.92753407999999 360.672 66.92753407999999 366 66.92753407999999 Z\"></path><path fill=\"#7cb5ec\" d=\"M 386 62.34263551999999 C 391.328 62.34263551999999 391.328 70.34263551999999 386 70.34263551999999 C 380.672 70.34263551999999 380.672 62.34263551999999 386 62.34263551999999 Z\"></path><path fill=\"#7cb5ec\" d=\"M 406 56.055767040000006 C 411.328 56.055767040000006 411.328 64.05576704 406 64.05576704 C 400.672 64.05576704 400.672 56.055767040000006 406 56.055767040000006 Z\"></path><path fill=\"#7cb5ec\" d=\"M 426 47.56328447999999 C 431.328 47.56328447999999 431.328 55.56328447999999 426 55.56328447999999 C 420.672 55.56328447999999 420.672 47.56328447999999 426 47.56328447999999 Z\"></path><path fill=\"#7cb5ec\" d=\"M 446 44.854026239999996 C 451.328 44.854026239999996 451.328 52.854026239999996 446 52.854026239999996 C 440.672 52.854026239999996 440.672 44.854026239999996 446 44.854026239999996 Z\"></path><path fill=\"#7cb5ec\" d=\"M 466 36.882554880000015 C 471.328 36.882554880000015 471.328 44.882554880000015 466 44.882554880000015 C 460.672 44.882554880000015 460.672 36.882554880000015 466 36.882554880000015 Z\"></path><path fill=\"#7cb5ec\" d=\"M 486 34.3296 C 491.328 34.3296 491.328 42.3296 486 42.3296 C 480.672 42.3296 480.672 34.3296 486 34.3296 Z\"></path><path fill=\"#7cb5ec\" d=\"M 506 34.3296 C 511.328 34.3296 511.328 42.3296 506 42.3296 C 500.672 42.3296 500.672 34.3296 506 34.3296 Z\"></path><path fill=\"#7cb5ec\" d=\"M 526 34.3296 C 531.328 34.3296 531.328 42.3296 526 42.3296 C 520.672 42.3296 520.672 34.3296 526 34.3296 Z\"></path><path fill=\"#7cb5ec\" d=\"M 546 34.3296 C 551.328 34.3296 551.328 42.3296 546 42.3296 C 540.672 42.3296 540.672 34.3296 546 34.3296 Z\"></path><path fill=\"#7cb5ec\" d=\"M 565 38.237183999999985 C 570.328 38.237183999999985 570.328 46.237183999999985 565 46.237183999999985 C 559.672 46.237183999999985 559.672 38.237183999999985 565 38.237183999999985 Z\" stroke-width=\"1\"></path><path fill=\"#7cb5ec\" d=\"M 585 51.31456512 C 590.328 51.31456512 590.328 59.31456512 585 59.31456512 C 579.672 59.31456512 579.672 51.31456512 585 51.31456512 Z\" stroke-width=\"1\"></path><path fill=\"#7cb5ec\" d=\"M 605 78.47661568000001 C 610.328 78.47661568000001 610.328 86.47661568000001 605 86.47661568000001 C 599.672 86.47661568000001 599.672 78.47661568000001 605 78.47661568000001 Z\" stroke-width=\"1\"></path><path fill=\"#7cb5ec\" d=\"M 625 164.54766592000001 C 630.328 164.54766592000001 630.328 172.54766592000001 625 172.54766592000001 C 619.672 172.54766592000001 619.672 164.54766592000001 625 164.54766592000001 Z\"></path><path fill=\"#7cb5ec\" d=\"M 645 208 C 650.328 208 650.328 216 645 216 C 639.672 216 639.672 208 645 208 Z\"></path><path fill=\"#7cb5ec\" d=\"M 665 202.73778688 C 670.328 202.73778688 670.328 210.73778688 665 210.73778688 C 659.672 210.73778688 659.672 202.73778688 665 202.73778688 Z\"></path><path fill=\"#7cb5ec\" d=\"M 685 104.26667008 C 690.328 104.26667008 690.328 112.26667008 685 112.26667008 C 679.672 112.26667008 679.672 104.26667008 685 104.26667008 Z\"></path><path fill=\"#7cb5ec\" d=\"M 705 34.3296 C 710.328 34.3296 710.328 42.3296 705 42.3296 C 699.672 42.3296 699.672 34.3296 705 34.3296 Z\"></path><path fill=\"#7cb5ec\" d=\"M 725 34.3296 C 730.328 34.3296 730.328 42.3296 725 42.3296 C 719.672 42.3296 719.672 34.3296 725 34.3296 Z\"></path><path fill=\"#7cb5ec\" d=\"M 744 34.3296 C 749.328 34.3296 749.328 42.3296 744 42.3296 C 738.672 42.3296 738.672 34.3296 744 34.3296 Z\"></path><path fill=\"#7cb5ec\" d=\"M 764 115.31210752000001 C 769.328 115.31210752000001 769.328 123.31210752000001 764 123.31210752000001 C 758.672 123.31210752000001 758.672 115.31210752000001 764 115.31210752000001 Z\"></path><path fill=\"#7cb5ec\" d=\"M 784 204.76973056 C 789.328 204.76973056 789.328 212.76973056 784 212.76973056 C 778.672 212.76973056 778.672 204.76973056 784 204.76973056 Z\"></path><path fill=\"#7cb5ec\" d=\"M 804 208 C 809.328 208 809.328 216 804 216 C 798.672 216 798.672 208 804 208 Z\"></path><path fill=\"#7cb5ec\" d=\"M 824 208 C 829.328 208 829.328 216 824 216 C 818.672 216 818.672 208 824 208 Z\"></path><path fill=\"#7cb5ec\" d=\"M 844 208 C 849.328 208 849.328 216 844 216 C 838.672 216 838.672 208 844 208 Z\"></path><path fill=\"#7cb5ec\" d=\"M 864 208 C 869.328 208 869.328 216 864 216 C 858.672 216 858.672 208 864 208 Z\"></path><path fill=\"#7cb5ec\" d=\"M 884 208 C 889.328 208 889.328 216 884 216 C 878.672 216 878.672 208 884 208 Z\"></path></g></g><text x=\"492\" text-anchor=\"middle\" class=\"highcharts-title\" style=\"color:#333333;font-size:18px;fill:#333333;width:920px;\" y=\"24\">Line</text><text x=\"492\" text-anchor=\"middle\" class=\"highcharts-subtitle\" style=\"color:#555555;fill:#555555;width:920px;\" y=\"52\"><tspan>Select an area to zoom in. Click \"Reset Zoom\" to reset the zoom level.</tspan></text><g class=\"highcharts-legend\" transform=\"translate(433,321)\"><g><g><g class=\"highcharts-legend-item\" transform=\"translate(8,3)\"><path fill=\"none\" d=\"M 0 11 L 16 11\" stroke=\"#7cb5ec\" stroke-width=\"2\"></path><path fill=\"#7cb5ec\" d=\"M 8 7 C 13.328 7 13.328 15 8 15 C 2.6719999999999997 15 2.6719999999999997 7 8 7 Z\"></path><text x=\"21\" style=\"color:#333333;font-size:12px;font-weight:bold;cursor:pointer;fill:#333333;\" text-anchor=\"start\" y=\"15\"><tspan>Knob Position</tspan></text></g></g></g></g><g class=\"highcharts-axis-labels highcharts-xaxis-labels\"><text x=\"664.5156467633709\" style=\"color:#606060;cursor:default;font-size:11px;fill:#606060;width:288px;text-overflow:clip;\" text-anchor=\"middle\" transform=\"translate(0,0)\" y=\"303\" opacity=\"1\">11:16:00</text><text x=\"269.5725127621576\" style=\"color:#606060;cursor:default;font-size:11px;fill:#606060;width:288px;text-overflow:clip;\" text-anchor=\"middle\" transform=\"translate(0,0)\" y=\"303\" opacity=\"1\">11:15:40</text><text x=\"467.0440797627643\" style=\"color:#606060;cursor:default;font-size:11px;fill:#606060;width:288px;text-overflow:clip;\" text-anchor=\"middle\" transform=\"translate(0,0)\" y=\"303\" opacity=\"1\">11:15:50</text><text x=\"861.9872137639776\" style=\"color:#606060;cursor:default;font-size:11px;fill:#606060;width:288px;text-overflow:clip;\" text-anchor=\"middle\" transform=\"translate(0,0)\" y=\"303\" opacity=\"1\">11:16:10</text></g><g class=\"highcharts-axis-labels highcharts-yaxis-labels\"><text x=\"66\" style=\"color:#606060;cursor:default;font-size:11px;fill:#606060;width:315px;text-overflow:clip;\" text-anchor=\"end\" transform=\"translate(0,0)\" y=\"287\" opacity=\"1\">0</text><text x=\"66\" style=\"color:#606060;cursor:default;font-size:11px;fill:#606060;width:315px;text-overflow:clip;\" text-anchor=\"end\" transform=\"translate(0,0)\" y=\"244\" opacity=\"1\">250</text><text x=\"66\" style=\"color:#606060;cursor:default;font-size:11px;fill:#606060;width:315px;text-overflow:clip;\" text-anchor=\"end\" transform=\"translate(0,0)\" y=\"202\" opacity=\"1\">500</text><text x=\"66\" style=\"color:#606060;cursor:default;font-size:11px;fill:#606060;width:315px;text-overflow:clip;\" text-anchor=\"end\" transform=\"translate(0,0)\" y=\"159\" opacity=\"1\">750</text><text x=\"66\" style=\"color:#606060;cursor:default;font-size:11px;fill:#606060;width:315px;text-overflow:clip;\" text-anchor=\"end\" transform=\"translate(0,0)\" y=\"117\" opacity=\"1\">1000</text><text x=\"66\" style=\"color:#606060;cursor:default;font-size:11px;fill:#606060;width:315px;text-overflow:clip;\" text-anchor=\"end\" transform=\"translate(0,0)\" y=\"75\" opacity=\"1\">1250</text></g><g class=\"highcharts-tooltip\" style=\"cursor:default;padding:0;pointer-events:none;white-space:nowrap;\" transform=\"translate(620,-9999)\" opacity=\"0\" visibility=\"visible\"><path fill=\"none\" d=\"M 3.5 0.5 L 145.5 0.5 C 148.5 0.5 148.5 0.5 148.5 3.5 L 148.5 61.5 C 148.5 64.5 148.5 64.5 145.5 64.5 L 79.5 64.5 73.5 70.5 67.5 64.5 3.5 64.5 C 0.5 64.5 0.5 64.5 0.5 61.5 L 0.5 3.5 C 0.5 0.5 0.5 0.5 3.5 0.5\" isShadow=\"true\" stroke=\"black\" stroke-opacity=\"0.049999999999999996\" stroke-width=\"5\" transform=\"translate(1, 1)\"></path><path fill=\"none\" d=\"M 3.5 0.5 L 145.5 0.5 C 148.5 0.5 148.5 0.5 148.5 3.5 L 148.5 61.5 C 148.5 64.5 148.5 64.5 145.5 64.5 L 79.5 64.5 73.5 70.5 67.5 64.5 3.5 64.5 C 0.5 64.5 0.5 64.5 0.5 61.5 L 0.5 3.5 C 0.5 0.5 0.5 0.5 3.5 0.5\" isShadow=\"true\" stroke=\"black\" stroke-opacity=\"0.09999999999999999\" stroke-width=\"3\" transform=\"translate(1, 1)\"></path><path fill=\"none\" d=\"M 3.5 0.5 L 145.5 0.5 C 148.5 0.5 148.5 0.5 148.5 3.5 L 148.5 61.5 C 148.5 64.5 148.5 64.5 145.5 64.5 L 79.5 64.5 73.5 70.5 67.5 64.5 3.5 64.5 C 0.5 64.5 0.5 64.5 0.5 61.5 L 0.5 3.5 C 0.5 0.5 0.5 0.5 3.5 0.5\" isShadow=\"true\" stroke=\"black\" stroke-opacity=\"0.15\" stroke-width=\"1\" transform=\"translate(1, 1)\"></path><path fill=\"rgba(249, 249, 249, .85)\" d=\"M 3.5 0.5 L 145.5 0.5 C 148.5 0.5 148.5 0.5 148.5 3.5 L 148.5 61.5 C 148.5 64.5 148.5 64.5 145.5 64.5 L 79.5 64.5 73.5 70.5 67.5 64.5 3.5 64.5 C 0.5 64.5 0.5 64.5 0.5 61.5 L 0.5 3.5 C 0.5 0.5 0.5 0.5 3.5 0.5\" stroke=\"#7cb5ec\" stroke-width=\"1\"></path><text x=\"8\" style=\"font-size:12px;color:#333333;fill:#333333;\" y=\"20\"><tspan style=\"font-weight:bold\">Knob Position</tspan><tspan x=\"8\" dy=\"15\">2022-01-04 11:16:00</tspan><tspan x=\"8\" dy=\"15\">923.85</tspan></text></g><text x=\"974\" text-anchor=\"end\" style=\"cursor:pointer;color:#909090;font-size:9px;fill:#909090;\" y=\"360\">Highcharts.com</text></svg></div></div>\n",
       "        "
      ]
     },
     "output_type": "display_data"
    }
   ],
   "source": [
    "import RPi.GPIO as GPIO\n",
    "\n",
    "from pyfirmata import Arduino, util\n",
    "from time import *\n",
    "\n",
    "import chestnut.graph as graph\n",
    "\n",
    "analog_value = None\n",
    "\n",
    "board = Arduino('/dev/ttyUSB0')\n",
    "util.Iterator(board).start()\n",
    "\n",
    "board.analog[0].enable_reporting()\n",
    "\n",
    "\n",
    "print('')\n",
    "GPIO.setmode(GPIO.BCM)\n",
    "GPIO.setup(18, GPIO.OUT)\n",
    "GPIO.setup(27, GPIO.OUT)\n",
    "GPIO.setup(22, GPIO.OUT)\n",
    "GPIO.setup(23, GPIO.OUT)\n",
    "GPIO.setup(24, GPIO.OUT)\n",
    "sleep(1)\n",
    "chart = graph.Line(['Knob Position'])\n",
    "while True:\n",
    "  sleep(1)\n",
    "  analog_value = board.analog[0].read()\n",
    "  analog_value = analog_value * 1024\n",
    "  chart.update([analog_value])\n",
    "  if analog_value > 200:\n",
    "    GPIO.output(18, True)\n",
    "  else:\n",
    "    GPIO.output(18, False)\n",
    "  if analog_value > 400:\n",
    "    GPIO.output(27, True)\n",
    "  else:\n",
    "    GPIO.output(27, False)\n",
    "  if analog_value > 600:\n",
    "    GPIO.output(22, True)\n",
    "  else:\n",
    "    GPIO.output(22, False)\n",
    "  if analog_value > 800:\n",
    "    GPIO.output(23, True)\n",
    "  else:\n",
    "    GPIO.output(23, False)\n",
    "  if analog_value > 1000:\n",
    "    GPIO.output(24, True)\n",
    "  else:\n",
    "    GPIO.output(24, False)\n"
   ]
  },
  {
   "cell_type": "markdown",
   "metadata": {},
   "source": [
    "## Part 3:\tVisualize the Data in a Line Chart\n",
    "Continue by updating the Visual Programming code cell that you created in the previous part.\n",
    "\n",
    "### Step 1:\tCreate a Line Chart\n",
    " 1. Click on the **Graphing** menu and add a **Graph with chart type** block to create a new Visual Graph. This block creates the Graph, it must be placed outside and before the *while* loop so that it is not getting redefined on every iteration of the loop. \n",
    " 2. By default the list of charts contains two data labels - *Label 1* and *Label 2*. We would like to visualize the current position of the potentiometer knob and therefore one data label is enough. Remove the second label and rename the remaining one to \"Knob Position\".\n",
    "![graph_labels](images/graph_labels.png)\n",
    " 3. Click on the **Graphing** menu and add a **Graph update values** block into the while loop after reading the analog value representing the position of the potentiometer's knob. The source data that should be visualized is the value of **analog_value** variable.\n",
    "![graph_datasets](images/graph_datasets.png)\n",
    " 4. Run the cell. This time you should not only see a textual output, but also a realtime graph visualization.\n",
    "Example output: ![graphing_output](images/graphing.png)"
   ]
  },
  {
   "cell_type": "markdown",
   "metadata": {},
   "source": [
    "## Reflection\n",
    "If you wanted to connect another LED to the Raspberry PI indicating values less than 100, what pin might you use?\n",
    "5\n",
    "\n",
    "Examine the resulting Python code displayed on the right part of the Visual Programming code cell. Take the Python code (copy/paste) and put it into a new cell below. Try to edit edit and customize the Python code and run the cell. See how your customizations change the behaviour"
   ]
  },
  {
   "cell_type": "code",
   "execution_count": 7,
   "metadata": {},
   "outputs": [
    {
     "data": {
      "text/html": [
       "\n",
       "            <button class=\"btn btn-default\" style=\"20px\">\n",
       "                <img src=\"/nbextensions/chestnut/fa-clone.png\">\n",
       "            </button>\n",
       "            <div id=\"chart_3bcfc4c2-b7a6-45e5-a029-e63f34440819\" style=\"height: calc(100% - 35px)\" data-highcharts-chart=\"1\"><div class=\"highcharts-container\" id=\"highcharts-4\" style=\"position: relative; overflow: hidden; width: 984px; height: 365px; text-align: left; line-height: normal; z-index: 0; -webkit-tap-highlight-color: rgba(0, 0, 0, 0); touch-action: none;\"><svg version=\"1.1\" style=\"font-family:&quot;Lucida Grande&quot;, &quot;Lucida Sans Unicode&quot;, Arial, Helvetica, sans-serif;font-size:12px;\" xmlns=\"http://www.w3.org/2000/svg\" width=\"984\" height=\"365\"><desc>Created with Highcharts 4.2.5</desc><defs><clipPath id=\"highcharts-5\"><rect x=\"0\" y=\"0\" width=\"893\" height=\"212\"></rect></clipPath></defs><rect x=\"0\" y=\"0\" width=\"984\" height=\"365\" fill=\"#FFFFFF\" class=\" highcharts-background\"></rect><path fill=\"none\" d=\"M 81 284.5 L 974 284.5\" stroke=\"#808080\" stroke-width=\"1\" visibility=\"visible\"></path><g class=\"highcharts-grid\"></g><g class=\"highcharts-grid\"><path fill=\"none\" d=\"M 81 114.5 L 974 114.5\" stroke=\"#D8D8D8\" stroke-width=\"1\" opacity=\"1\"></path><path fill=\"none\" d=\"M 81 242.5 L 974 242.5\" stroke=\"#D8D8D8\" stroke-width=\"1\" opacity=\"1\"></path><path fill=\"none\" d=\"M 81 199.5 L 974 199.5\" stroke=\"#D8D8D8\" stroke-width=\"1\" opacity=\"1\"></path><path fill=\"none\" d=\"M 81 157.5 L 974 157.5\" stroke=\"#D8D8D8\" stroke-width=\"1\" opacity=\"1\"></path><path fill=\"none\" d=\"M 81 71.5 L 974 71.5\" stroke=\"#D8D8D8\" stroke-width=\"1\" opacity=\"1\"></path><path fill=\"none\" d=\"M 81 284.5 L 974 284.5\" stroke=\"#D8D8D8\" stroke-width=\"1\" opacity=\"1\"></path></g><g class=\"highcharts-axis\"><path fill=\"none\" d=\"M 307.5 284 L 307.5 294\" stroke=\"#C0D0E0\" stroke-width=\"1\" opacity=\"1\"></path><path fill=\"none\" d=\"M 598.5 284 L 598.5 294\" stroke=\"#C0D0E0\" stroke-width=\"1\" opacity=\"1\"></path><path fill=\"none\" d=\"M 890.5 284 L 890.5 294\" stroke=\"#C0D0E0\" stroke-width=\"1\" opacity=\"1\"></path><path fill=\"none\" d=\"M 161.5 284 L 161.5 294\" stroke=\"#C0D0E0\" stroke-width=\"1\" opacity=\"1\"></path><path fill=\"none\" d=\"M 453.5 284 L 453.5 294\" stroke=\"#C0D0E0\" stroke-width=\"1\" opacity=\"1\"></path><path fill=\"none\" d=\"M 744.5 284 L 744.5 294\" stroke=\"#C0D0E0\" stroke-width=\"1\" opacity=\"1\"></path><path fill=\"none\" d=\"M 81 284.5 L 974 284.5\" stroke=\"#C0D0E0\" stroke-width=\"1\"></path></g><g class=\"highcharts-axis\"><text x=\"27.933300018310547\" text-anchor=\"middle\" transform=\"translate(0,0) rotate(270 27.933300018310547 178)\" class=\" highcharts-yaxis-title\" style=\"color:#707070;fill:#707070;\" y=\"178\">Value</text></g><g class=\"highcharts-series-group\"><path fill=\"#7cb5ec\" fill-opacity=\"0.25\" d=\"M 0 0\"></path><g class=\"highcharts-series highcharts-series-0\" transform=\"translate(81,72) scale(1 1)\" clip-path=\"url(#highcharts-5)\"><path fill=\"none\" d=\"M 8.754901681915 162.5907712 L 11.199171044945 132.8931328 L 13.645867686389 132.8931328 L 16.09013704942 132.8931328 L 18.53440641245 132.8931328 L 20.983530332308 132.8931328 L 23.425372416924 132.8931328 L 25.874496336783 133.06680319999998 L 28.321192978227 132.545792 L 30.767889619671 86.03685888000001 L 33.214586261116 72.28216320000001 L 35.658855624146 38.3296 L 38.100697708762 38.3296 L 40.547394350206 38.3296 L 42.99409099165 38.50327039999999 L 45.440787633095 38.3296 L 47.882629717711 38.3296 L 50.331753637569 38.3296 L 52.776023000599 38.3296 L 55.222719642044 38.3296 L 57.66456172666 38.3296 L 60.10883108969 38.3296 L 62.557955009548 38.3296 L 65.002224372578 38.3296 L 67.446493735608 38.3296 L 69.890763098639 38.50327039999999 L 72.337459740083 38.3296 L 74.779301824699 38.3296 L 77.228425744557 38.3296 L 79.672695107588 38.3296 L 82.119391749032 38.3296 L 84.563661112062 38.3296 L 87.010357753506 38.3296 L 89.454627116536 38.50327039999999 L 91.901323757981 38.3296 L 94.343165842597 38.3296 L 96.789862484041 38.3296 L 99.234131847071 38.3296 L 101.6784012101 38.3296 L 104.12267057313 38.3296 L 106.56936721458 38.3296 L 109.01606385602 38.3296 L 111.46033321905 38.3296 L 113.90945713891 38.3296 L 116.35372650194 38.3296 L 118.80042314338 38.3296 L 121.24954706324 38.3296 L 123.69138914786 38.3296 L 126.13565851089 38.3296 L 128.58235515233 38.3296 L 131.02662451536 38.3296 L 133.47332115681 38.3296 L 135.91759051984 38.3296 L 138.36185988287 38.3296 L 140.80855652431 38.3296 L 143.25282588734 38.50327039999999 L 145.69709525037 38.3296 L 148.14379189182 38.3296 L 150.58806125485 38.3296 L 153.03233061788 38.3296 L 155.47417270249 38.3296 L 157.92329662235 38.3296 L 160.36756598538 38.3296 L 162.81183534841 38.3296 L 165.25610471144 38.3296 L 167.70037407447 38.3296 L 170.1446434375 38.3296 L 172.58891280053 38.3296 L 175.03560944198 38.3296 L 177.48230608342 38.3296 L 179.92657544645 38.3296 L 182.37327208789 38.3296 L 184.81754145092 38.3296 L 187.26181081395 38.3296 L 189.7085074554 38.3296 L 192.15034954002 38.50327039999999 L 194.59947345987 39.354255359999996 L 197.0437428229 51.910625280000005 L 199.49043946435 102.15347200000001 L 201.93470882738 129.1592192 L 204.38140546882 129.1592192 L 206.82324755344 129.1592192 L 209.2723714733 129.1592192 L 211.71664083633 129.1592192 L 214.16333747777 129.1592192 L 216.61003411922 129.1592192 L 219.05430348225 129.1592192 L 221.49857284528 129.1592192 L 223.94526948672 129.1592192 L 226.38953884975 129.1592192 L 228.83623549119 129.1592192 L 231.28293213264 129.1592192 L 233.72720149567 129.1592192 L 236.17389813711 129.1592192 L 238.61816750014 129.1592192 L 241.06486414159 129.1592192 L 243.50913350462 129.1592192 L 245.95583014606 129.1592192 L 248.39767223068 129.1592192 L 250.84194159371 129.1592192 L 253.28621095674 129.1592192 L 255.73048031977 129.1592192 L 258.1747496828 129.1592192 L 260.62630088107 129.1592192 L 263.07299752252 129.1592192 L 265.51726688555 129.1592192 L 267.96396352699 129.1592192 L 270.41066016843 129.1592192 L 272.85492953146 129.1592192 L 275.2991988945 129.1592192 L 277.74589553594 129.1592192 L 280.19016489897 129.1592192 L 282.63686154041 129.1592192 L 285.08113090344 170.5796096 L 287.52540026647 120.49306623999999 L 289.97452418633 91.1254016 L 292.41636627095 44.94644224000001 L 294.86306291239 38.3296 L 297.30975955384 38.3296 L 299.75645619528 38.3296 L 302.20315283673 38.3296 L 304.64742219976 38.3296 L 307.0941188412 38.3296 L 309.53838820423 38.3296 L 311.98508484567 38.3296 L 314.4293542087 38.3296 L 316.87847812856 38.3296 L 319.32517477001 38.3296 L 321.77187141145 38.3296 L 324.2185680529 38.3296 L 326.66283741593 38.3296 L 329.10710677896 38.3296 L 331.5538034204 38.3296 L 333.99807278343 38.3296 L 336.44476942488 38.3296 L 338.89146606632 38.3296 L 341.33573542935 38.3296 L 343.78485934921 38.3296 L 346.22670143382 38.3296 L 348.67097079685 38.3296 L 351.1176674383 38.3296 L 353.56193680133 38.3296 L 356.00863344277 38.3296 L 358.45533008422 38.3296 L 360.89959944725 38.3296 L 363.34386881028 38.3296 L 365.79056545172 38.3296 L 368.23483481475 38.3296 L 370.68395873461 38.3296 L 373.13308265447 38.3296 L 375.58220657433 38.3296 L 378.02647593736 38.3296 L 380.47559985722 38.3296 L 382.92229649866 38.3296 L 385.36656586169 38.3296 L 387.81083522472 38.3296 L 390.25510458775 38.3296 L 392.7018012292 38.3296 L 395.14849787064 38.3296 L 397.59276723367 38.3296 L 400.0370365967 38.3296 L 402.48130595973 38.3296 L 404.92800260117 38.3296 L 407.3722719642 38.3296 L 409.81896860565 38.3296 L 412.26809252551 38.3296 L 414.71478916695 38.3296 L 417.15663125157 38.3296 L 419.6009006146 38.3296 L 422.04759725604 38.3296 L 424.49186661907 38.3296 L 426.93856326052 38.3296 L 429.38525990196 38.3296 L 431.8319565434 38.3296 L 434.27865318485 38.3296 L 436.72534982629 38.3296 L 439.16961918932 38.3296 L 441.61388855235 38.3296 L 444.05815791538 38.3296 L 446.50728183524 38.3296 L 448.95397847669 38.3296 L 451.39824783972 38.3296 L 453.84494448116 104.02911232 L 456.28678656578 106.73837056 L 458.73348320722 207.58877184 L 461.17775257025 207.58877184 L 463.6244492117 207.76244224 L 466.07114585314 207.58877184 L 468.520269773 207.58877184 L 470.96211185761 207.58877184 L 473.40880849906 207.58877184 L 475.85307786209 207.58877184 L 478.29734722512 207.58877184 L 480.74404386656 207.41510144 L 483.19074050801 207.58877184 L 485.63500987104 207.58877184 L 488.08170651248 207.58877184 L 490.52597587551 207.58877184 L 492.97024523854 207.58877184 L 495.41694187999 207.58877184 L 497.86363852143 207.58877184 L 500.31033516288 207.58877184 L 502.75703180432 207.58877184 L 505.20130116735 207.58877184 L 507.65042508721 167.85298432000002 L 510.09469445024 138.65899008 L 512.53896381327 138.32901632 L 514.9832331763 93.15734528 L 517.42992981774 85.51584768000001 L 519.87419918077 64.31069184 L 522.3184685438 38.50327039999999 L 524.76516518525 38.50327039999999 L 527.21186182669 38.67694080000001 L 529.65613118972 64.46699519999999 L 532.10282783117 62.938695679999995 L 534.5470971942 62.10507776 L 536.99622111406 62.10507776 L 539.43806319867 62.26138112000001 L 541.8823325617 62.43505152 L 544.33145648156 62.43505152 L 546.778153123 62.10507776 L 549.22242248603 62.10507776 L 551.66669184906 62.10507776 L 554.11096121209 62.10507776 L 556.55765785354 62.10507776 L 559.00435449498 62.10507776 L 561.44862385801 62.10507776 L 563.89532049946 61.93140736000001 L 566.33958986249 62.10507776 L 568.78628650393 62.10507776 L 571.23055586696 62.10507776 L 573.67725250841 62.10507776 L 576.11909459302 62.26138112000001 L 578.56336395605 62.26138112000001 L 581.00763331908 62.26138112000001 L 583.45190268211 62.10507776 L 585.90102660197 70.07654911999998 L 588.345295965 51.05964032 L 590.78956532803 38.3296 L 593.23626196948 38.50327039999999 L 595.67810405409 38.3296 L 598.12480069554 38.3296 L 600.56907005857 38.3296 L 603.01819397842 38.50327039999999 L 605.46003606304 38.3296 L 607.90430542607 38.50327039999999 L 610.35100206752 38.3296 L 612.79527143055 38.3296 L 615.24196807199 38.3296 L 617.68866471343 38.3296 L 620.13536135488 38.3296 L 622.57720343949 38.3296 L 625.02390008094 38.50327039999999 L 627.46816944397 38.50327039999999 L 629.91486608541 38.67694080000001 L 632.36156272686 38.3296 L 634.81068664672 38.3296 L 637.25981056657 38.3296 L 639.70893448643 38.3296 L 642.16048568471 38.3296 L 644.60718232615 38.3296 L 647.05145168918 38.3296 L 649.49572105221 38.3296 L 651.94241769365 38.3296 L 654.38425977827 38.3296 L 656.83338369813 38.3296 L 659.28250761799 38.3296 L 661.71949514577 38.3296 L 664.16376450881 38.3296 L 666.61288842866 38.3296 L 669.05715779169 38.3296 L 671.50385443314 38.3296 L 673.95055107458 38.3296 L 676.39482043761 38.3296 L 678.83908980064 38.3296 L 681.28335916367 38.3296 L 683.73005580512 38.3296 L 686.17675244656 38.3296 L 688.62344908801 38.3296 L 691.06286389421 38.3296 L 693.51198781407 38.3296 L 695.95382989868 38.3296 L 698.39809926171 38.3296 L 700.84236862474 38.3296 L 703.28906526619 38.3296 L 705.73333462922 38.3296 L 708.18245854908 38.3296 L 710.62430063369 38.3296 L 713.07099727514 38.3296 L 715.51769391658 38.3296 L 717.96681783644 38.3296 L 720.41351447788 38.3296 L 722.86263839774 38.3296 L 725.30933503919 38.3296 L 727.75360440222 38.3296 L 730.19787376525 38.3296 L 732.64457040669 38.3296 L 735.09126704813 38.50327039999999 L 737.53553641116 38.50327039999999 L 739.98223305261 38.3296 L 742.42892969405 38.3296 L 744.87077177867 38.3296 L 747.31746842011 38.50327039999999 L 749.76173778314 38.50327039999999 L 752.20600714617 38.3296 L 754.65270378762 38.3296 L 757.09454587223 38.3296 L 759.54124251368 38.3296 L 761.98308459829 38.50327039999999 L 764.42978123974 38.3296 L 766.87405060277 38.3296 L 769.3183199658 38.3296 L 771.76501660724 50.72966656 L 774.20928597027 79.9236608 L 776.65598261172 122.87235072 L 779.10753380999 122.87235072 L 781.54694861619 122.87235072 L 783.99364525764 122.87235072 L 786.43548734225 122.87235072 L 788.8821839837 122.87235072 L 791.32888062514 122.87235072 L 793.77314998817 122.87235072 L 796.21984662962 122.87235072 L 798.66168871423 122.87235072 L 801.10838535568 122.87235072 L 803.55508199712 122.87235072 L 805.99692408174 122.87235072 L 808.44362072318 122.87235072 L 810.88789008621 122.87235072 L 813.33215944924 122.87235072 L 815.77642881227 122.87235072 L 818.2206981753 122.87235072 L 820.66739481675 122.87235072 L 823.11894601502 122.87235072 L 825.56806993488 122.87235072 L 828.00505746266 122.87235072 L 830.45660866094 122.87235072 L 832.89602346714 122.87235072 L 835.345147387 122.87235072 L 837.78698947161 122.87235072 L 840.41087743729 122.87235072 L 842.6803827545 122.87235072 L 845.12707939595 122.87235072 L 847.57134875898 122.87235072 L 850.01561812201 122.87235072 L 852.46474204186 122.87235072 L 854.91386596172 122.87235072 L 857.35570804634 122.87235072 L 859.79755013096 123.04602112 L 862.2442467724 122.87235072 L 864.69337069226 122.87235072 L 867.13278549846 122.87235072 L 869.5794821399 123.04602112 L 872.02617878135 122.87235072 L 874.47530270121 122.87235072 L 876.8952992801 122.87235072 L 879.35655959202 122.87235072 L 881.80082895505 122.87235072 L 884.24509831808 122.87235072\" stroke=\"#7cb5ec\" stroke-width=\"2\" stroke-linejoin=\"round\" stroke-linecap=\"round\"></path><path fill=\"none\" d=\"M -1.2450983180850006 162.5907712 L 8.754901681915 162.5907712 L 11.199171044945 132.8931328 L 13.645867686389 132.8931328 L 16.09013704942 132.8931328 L 18.53440641245 132.8931328 L 20.983530332308 132.8931328 L 23.425372416924 132.8931328 L 25.874496336783 133.06680319999998 L 28.321192978227 132.545792 L 30.767889619671 86.03685888000001 L 33.214586261116 72.28216320000001 L 35.658855624146 38.3296 L 38.100697708762 38.3296 L 40.547394350206 38.3296 L 42.99409099165 38.50327039999999 L 45.440787633095 38.3296 L 47.882629717711 38.3296 L 50.331753637569 38.3296 L 52.776023000599 38.3296 L 55.222719642044 38.3296 L 57.66456172666 38.3296 L 60.10883108969 38.3296 L 62.557955009548 38.3296 L 65.002224372578 38.3296 L 67.446493735608 38.3296 L 69.890763098639 38.50327039999999 L 72.337459740083 38.3296 L 74.779301824699 38.3296 L 77.228425744557 38.3296 L 79.672695107588 38.3296 L 82.119391749032 38.3296 L 84.563661112062 38.3296 L 87.010357753506 38.3296 L 89.454627116536 38.50327039999999 L 91.901323757981 38.3296 L 94.343165842597 38.3296 L 96.789862484041 38.3296 L 99.234131847071 38.3296 L 101.6784012101 38.3296 L 104.12267057313 38.3296 L 106.56936721458 38.3296 L 109.01606385602 38.3296 L 111.46033321905 38.3296 L 113.90945713891 38.3296 L 116.35372650194 38.3296 L 118.80042314338 38.3296 L 121.24954706324 38.3296 L 123.69138914786 38.3296 L 126.13565851089 38.3296 L 128.58235515233 38.3296 L 131.02662451536 38.3296 L 133.47332115681 38.3296 L 135.91759051984 38.3296 L 138.36185988287 38.3296 L 140.80855652431 38.3296 L 143.25282588734 38.50327039999999 L 145.69709525037 38.3296 L 148.14379189182 38.3296 L 150.58806125485 38.3296 L 153.03233061788 38.3296 L 155.47417270249 38.3296 L 157.92329662235 38.3296 L 160.36756598538 38.3296 L 162.81183534841 38.3296 L 165.25610471144 38.3296 L 167.70037407447 38.3296 L 170.1446434375 38.3296 L 172.58891280053 38.3296 L 175.03560944198 38.3296 L 177.48230608342 38.3296 L 179.92657544645 38.3296 L 182.37327208789 38.3296 L 184.81754145092 38.3296 L 187.26181081395 38.3296 L 189.7085074554 38.3296 L 192.15034954002 38.50327039999999 L 194.59947345987 39.354255359999996 L 197.0437428229 51.910625280000005 L 199.49043946435 102.15347200000001 L 201.93470882738 129.1592192 L 204.38140546882 129.1592192 L 206.82324755344 129.1592192 L 209.2723714733 129.1592192 L 211.71664083633 129.1592192 L 214.16333747777 129.1592192 L 216.61003411922 129.1592192 L 219.05430348225 129.1592192 L 221.49857284528 129.1592192 L 223.94526948672 129.1592192 L 226.38953884975 129.1592192 L 228.83623549119 129.1592192 L 231.28293213264 129.1592192 L 233.72720149567 129.1592192 L 236.17389813711 129.1592192 L 238.61816750014 129.1592192 L 241.06486414159 129.1592192 L 243.50913350462 129.1592192 L 245.95583014606 129.1592192 L 248.39767223068 129.1592192 L 250.84194159371 129.1592192 L 253.28621095674 129.1592192 L 255.73048031977 129.1592192 L 258.1747496828 129.1592192 L 260.62630088107 129.1592192 L 263.07299752252 129.1592192 L 265.51726688555 129.1592192 L 267.96396352699 129.1592192 L 270.41066016843 129.1592192 L 272.85492953146 129.1592192 L 275.2991988945 129.1592192 L 277.74589553594 129.1592192 L 280.19016489897 129.1592192 L 282.63686154041 129.1592192 L 285.08113090344 170.5796096 L 287.52540026647 120.49306623999999 L 289.97452418633 91.1254016 L 292.41636627095 44.94644224000001 L 294.86306291239 38.3296 L 297.30975955384 38.3296 L 299.75645619528 38.3296 L 302.20315283673 38.3296 L 304.64742219976 38.3296 L 307.0941188412 38.3296 L 309.53838820423 38.3296 L 311.98508484567 38.3296 L 314.4293542087 38.3296 L 316.87847812856 38.3296 L 319.32517477001 38.3296 L 321.77187141145 38.3296 L 324.2185680529 38.3296 L 326.66283741593 38.3296 L 329.10710677896 38.3296 L 331.5538034204 38.3296 L 333.99807278343 38.3296 L 336.44476942488 38.3296 L 338.89146606632 38.3296 L 341.33573542935 38.3296 L 343.78485934921 38.3296 L 346.22670143382 38.3296 L 348.67097079685 38.3296 L 351.1176674383 38.3296 L 353.56193680133 38.3296 L 356.00863344277 38.3296 L 358.45533008422 38.3296 L 360.89959944725 38.3296 L 363.34386881028 38.3296 L 365.79056545172 38.3296 L 368.23483481475 38.3296 L 370.68395873461 38.3296 L 373.13308265447 38.3296 L 375.58220657433 38.3296 L 378.02647593736 38.3296 L 380.47559985722 38.3296 L 382.92229649866 38.3296 L 385.36656586169 38.3296 L 387.81083522472 38.3296 L 390.25510458775 38.3296 L 392.7018012292 38.3296 L 395.14849787064 38.3296 L 397.59276723367 38.3296 L 400.0370365967 38.3296 L 402.48130595973 38.3296 L 404.92800260117 38.3296 L 407.3722719642 38.3296 L 409.81896860565 38.3296 L 412.26809252551 38.3296 L 414.71478916695 38.3296 L 417.15663125157 38.3296 L 419.6009006146 38.3296 L 422.04759725604 38.3296 L 424.49186661907 38.3296 L 426.93856326052 38.3296 L 429.38525990196 38.3296 L 431.8319565434 38.3296 L 434.27865318485 38.3296 L 436.72534982629 38.3296 L 439.16961918932 38.3296 L 441.61388855235 38.3296 L 444.05815791538 38.3296 L 446.50728183524 38.3296 L 448.95397847669 38.3296 L 451.39824783972 38.3296 L 453.84494448116 104.02911232 L 456.28678656578 106.73837056 L 458.73348320722 207.58877184 L 461.17775257025 207.58877184 L 463.6244492117 207.76244224 L 466.07114585314 207.58877184 L 468.520269773 207.58877184 L 470.96211185761 207.58877184 L 473.40880849906 207.58877184 L 475.85307786209 207.58877184 L 478.29734722512 207.58877184 L 480.74404386656 207.41510144 L 483.19074050801 207.58877184 L 485.63500987104 207.58877184 L 488.08170651248 207.58877184 L 490.52597587551 207.58877184 L 492.97024523854 207.58877184 L 495.41694187999 207.58877184 L 497.86363852143 207.58877184 L 500.31033516288 207.58877184 L 502.75703180432 207.58877184 L 505.20130116735 207.58877184 L 507.65042508721 167.85298432000002 L 510.09469445024 138.65899008 L 512.53896381327 138.32901632 L 514.9832331763 93.15734528 L 517.42992981774 85.51584768000001 L 519.87419918077 64.31069184 L 522.3184685438 38.50327039999999 L 524.76516518525 38.50327039999999 L 527.21186182669 38.67694080000001 L 529.65613118972 64.46699519999999 L 532.10282783117 62.938695679999995 L 534.5470971942 62.10507776 L 536.99622111406 62.10507776 L 539.43806319867 62.26138112000001 L 541.8823325617 62.43505152 L 544.33145648156 62.43505152 L 546.778153123 62.10507776 L 549.22242248603 62.10507776 L 551.66669184906 62.10507776 L 554.11096121209 62.10507776 L 556.55765785354 62.10507776 L 559.00435449498 62.10507776 L 561.44862385801 62.10507776 L 563.89532049946 61.93140736000001 L 566.33958986249 62.10507776 L 568.78628650393 62.10507776 L 571.23055586696 62.10507776 L 573.67725250841 62.10507776 L 576.11909459302 62.26138112000001 L 578.56336395605 62.26138112000001 L 581.00763331908 62.26138112000001 L 583.45190268211 62.10507776 L 585.90102660197 70.07654911999998 L 588.345295965 51.05964032 L 590.78956532803 38.3296 L 593.23626196948 38.50327039999999 L 595.67810405409 38.3296 L 598.12480069554 38.3296 L 600.56907005857 38.3296 L 603.01819397842 38.50327039999999 L 605.46003606304 38.3296 L 607.90430542607 38.50327039999999 L 610.35100206752 38.3296 L 612.79527143055 38.3296 L 615.24196807199 38.3296 L 617.68866471343 38.3296 L 620.13536135488 38.3296 L 622.57720343949 38.3296 L 625.02390008094 38.50327039999999 L 627.46816944397 38.50327039999999 L 629.91486608541 38.67694080000001 L 632.36156272686 38.3296 L 634.81068664672 38.3296 L 637.25981056657 38.3296 L 639.70893448643 38.3296 L 642.16048568471 38.3296 L 644.60718232615 38.3296 L 647.05145168918 38.3296 L 649.49572105221 38.3296 L 651.94241769365 38.3296 L 654.38425977827 38.3296 L 656.83338369813 38.3296 L 659.28250761799 38.3296 L 661.71949514577 38.3296 L 664.16376450881 38.3296 L 666.61288842866 38.3296 L 669.05715779169 38.3296 L 671.50385443314 38.3296 L 673.95055107458 38.3296 L 676.39482043761 38.3296 L 678.83908980064 38.3296 L 681.28335916367 38.3296 L 683.73005580512 38.3296 L 686.17675244656 38.3296 L 688.62344908801 38.3296 L 691.06286389421 38.3296 L 693.51198781407 38.3296 L 695.95382989868 38.3296 L 698.39809926171 38.3296 L 700.84236862474 38.3296 L 703.28906526619 38.3296 L 705.73333462922 38.3296 L 708.18245854908 38.3296 L 710.62430063369 38.3296 L 713.07099727514 38.3296 L 715.51769391658 38.3296 L 717.96681783644 38.3296 L 720.41351447788 38.3296 L 722.86263839774 38.3296 L 725.30933503919 38.3296 L 727.75360440222 38.3296 L 730.19787376525 38.3296 L 732.64457040669 38.3296 L 735.09126704813 38.50327039999999 L 737.53553641116 38.50327039999999 L 739.98223305261 38.3296 L 742.42892969405 38.3296 L 744.87077177867 38.3296 L 747.31746842011 38.50327039999999 L 749.76173778314 38.50327039999999 L 752.20600714617 38.3296 L 754.65270378762 38.3296 L 757.09454587223 38.3296 L 759.54124251368 38.3296 L 761.98308459829 38.50327039999999 L 764.42978123974 38.3296 L 766.87405060277 38.3296 L 769.3183199658 38.3296 L 771.76501660724 50.72966656 L 774.20928597027 79.9236608 L 776.65598261172 122.87235072 L 779.10753380999 122.87235072 L 781.54694861619 122.87235072 L 783.99364525764 122.87235072 L 786.43548734225 122.87235072 L 788.8821839837 122.87235072 L 791.32888062514 122.87235072 L 793.77314998817 122.87235072 L 796.21984662962 122.87235072 L 798.66168871423 122.87235072 L 801.10838535568 122.87235072 L 803.55508199712 122.87235072 L 805.99692408174 122.87235072 L 808.44362072318 122.87235072 L 810.88789008621 122.87235072 L 813.33215944924 122.87235072 L 815.77642881227 122.87235072 L 818.2206981753 122.87235072 L 820.66739481675 122.87235072 L 823.11894601502 122.87235072 L 825.56806993488 122.87235072 L 828.00505746266 122.87235072 L 830.45660866094 122.87235072 L 832.89602346714 122.87235072 L 835.345147387 122.87235072 L 837.78698947161 122.87235072 L 840.41087743729 122.87235072 L 842.6803827545 122.87235072 L 845.12707939595 122.87235072 L 847.57134875898 122.87235072 L 850.01561812201 122.87235072 L 852.46474204186 122.87235072 L 854.91386596172 122.87235072 L 857.35570804634 122.87235072 L 859.79755013096 123.04602112 L 862.2442467724 122.87235072 L 864.69337069226 122.87235072 L 867.13278549846 122.87235072 L 869.5794821399 123.04602112 L 872.02617878135 122.87235072 L 874.47530270121 122.87235072 L 876.8952992801 122.87235072 L 879.35655959202 122.87235072 L 881.80082895505 122.87235072 L 884.24509831808 122.87235072 L 894.24509831808 122.87235072\" stroke-linejoin=\"round\" visibility=\"visible\" stroke=\"rgba(192,192,192,0.0001)\" stroke-width=\"22\" class=\" highcharts-tracker\" style=\"\"></path></g><g class=\"highcharts-markers highcharts-series-0 highcharts-tracker\" transform=\"translate(81,72) scale(1 1)\" clip-path=\"url(#highcharts-6)\" style=\"\"><path fill=\"#7cb5ec\" d=\"M 292 114.49306623999999 C 299.992 114.49306623999999 299.992 126.49306623999999 292 126.49306623999999 C 284.008 126.49306623999999 284.008 114.49306623999999 292 114.49306623999999 Z\" stroke=\"#FFFFFF\" stroke-width=\"1\" visibility=\"hidden\"></path></g></g><text x=\"492\" text-anchor=\"middle\" class=\"highcharts-title\" style=\"color:#333333;font-size:18px;fill:#333333;width:920px;\" y=\"24\">Line</text><text x=\"492\" text-anchor=\"middle\" class=\"highcharts-subtitle\" style=\"color:#555555;fill:#555555;width:920px;\" y=\"52\"><tspan>Select an area to zoom in. Click \"Reset Zoom\" to reset the zoom level.</tspan></text><g class=\"highcharts-legend\" transform=\"translate(433,321)\"><g><g><g class=\"highcharts-legend-item\" transform=\"translate(8,3)\"><path fill=\"none\" d=\"M 0 11 L 16 11\" stroke=\"#7cb5ec\" stroke-width=\"2\"></path><path fill=\"#7cb5ec\" d=\"M 8 7 C 13.328 7 13.328 15 8 15 C 2.6719999999999997 15 2.6719999999999997 7 8 7 Z\"></path><text x=\"21\" style=\"color:#333333;font-size:12px;font-weight:bold;cursor:pointer;fill:#333333;\" text-anchor=\"start\" y=\"15\"><tspan>Knob Position</tspan></text></g></g></g></g><g class=\"highcharts-axis-labels highcharts-xaxis-labels\"><text x=\"308.0327676294953\" style=\"color:#606060;cursor:default;font-size:11px;fill:#606060;width:169px;text-overflow:clip;\" text-anchor=\"middle\" transform=\"translate(0,0)\" y=\"303\" opacity=\"1\">11:20</text><text x=\"599.3061773252446\" style=\"color:#606060;cursor:default;font-size:11px;fill:#606060;width:169px;text-overflow:clip;\" text-anchor=\"middle\" transform=\"translate(0,0)\" y=\"303\" opacity=\"1\">11:22</text><text x=\"890.5795870209937\" style=\"color:#606060;cursor:default;font-size:11px;fill:#606060;width:169px;text-overflow:clip;\" text-anchor=\"middle\" transform=\"translate(0,0)\" y=\"303\" opacity=\"1\">11:24</text><text x=\"162.39606278162074\" style=\"color:#606060;cursor:default;font-size:11px;fill:#606060;width:169px;text-overflow:clip;\" text-anchor=\"middle\" transform=\"translate(0,0)\" y=\"303\" opacity=\"1\">11:19</text><text x=\"453.66947247736994\" style=\"color:#606060;cursor:default;font-size:11px;fill:#606060;width:169px;text-overflow:clip;\" text-anchor=\"middle\" transform=\"translate(0,0)\" y=\"303\" opacity=\"1\">11:21</text><text x=\"744.9428821731192\" style=\"color:#606060;cursor:default;font-size:11px;fill:#606060;width:169px;text-overflow:clip;\" text-anchor=\"middle\" transform=\"translate(0,0)\" y=\"303\" opacity=\"1\">11:23</text></g><g class=\"highcharts-axis-labels highcharts-yaxis-labels\"><text x=\"66\" style=\"color:#606060;cursor:default;font-size:11px;fill:#606060;width:315px;text-overflow:clip;\" text-anchor=\"end\" transform=\"translate(0,0)\" y=\"117\" opacity=\"1\">1000</text><text x=\"66\" style=\"color:#606060;cursor:default;font-size:11px;fill:#606060;width:315px;text-overflow:clip;\" text-anchor=\"end\" transform=\"translate(0,0)\" y=\"244\" opacity=\"1\">250</text><text x=\"66\" style=\"color:#606060;cursor:default;font-size:11px;fill:#606060;width:315px;text-overflow:clip;\" text-anchor=\"end\" transform=\"translate(0,0)\" y=\"202\" opacity=\"1\">500</text><text x=\"66\" style=\"color:#606060;cursor:default;font-size:11px;fill:#606060;width:315px;text-overflow:clip;\" text-anchor=\"end\" transform=\"translate(0,0)\" y=\"159\" opacity=\"1\">750</text><text x=\"66\" style=\"color:#606060;cursor:default;font-size:11px;fill:#606060;width:315px;text-overflow:clip;\" text-anchor=\"end\" transform=\"translate(0,0)\" y=\"75\" opacity=\"1\">1250</text><text x=\"66\" style=\"color:#606060;cursor:default;font-size:11px;fill:#606060;width:315px;text-overflow:clip;\" text-anchor=\"end\" transform=\"translate(0,0)\" y=\"287\" opacity=\"1\">0</text></g><g class=\"highcharts-tooltip\" style=\"cursor:default;padding:0;pointer-events:none;white-space:nowrap;\" transform=\"translate(299,-9999)\" opacity=\"0\" visibility=\"visible\"><path fill=\"none\" d=\"M 3.5 0.5 L 145.5 0.5 C 148.5 0.5 148.5 0.5 148.5 3.5 L 148.5 61.5 C 148.5 64.5 148.5 64.5 145.5 64.5 L 79.5 64.5 73.5 70.5 67.5 64.5 3.5 64.5 C 0.5 64.5 0.5 64.5 0.5 61.5 L 0.5 3.5 C 0.5 0.5 0.5 0.5 3.5 0.5\" isShadow=\"true\" stroke=\"black\" stroke-opacity=\"0.049999999999999996\" stroke-width=\"5\" transform=\"translate(1, 1)\"></path><path fill=\"none\" d=\"M 3.5 0.5 L 145.5 0.5 C 148.5 0.5 148.5 0.5 148.5 3.5 L 148.5 61.5 C 148.5 64.5 148.5 64.5 145.5 64.5 L 79.5 64.5 73.5 70.5 67.5 64.5 3.5 64.5 C 0.5 64.5 0.5 64.5 0.5 61.5 L 0.5 3.5 C 0.5 0.5 0.5 0.5 3.5 0.5\" isShadow=\"true\" stroke=\"black\" stroke-opacity=\"0.09999999999999999\" stroke-width=\"3\" transform=\"translate(1, 1)\"></path><path fill=\"none\" d=\"M 3.5 0.5 L 145.5 0.5 C 148.5 0.5 148.5 0.5 148.5 3.5 L 148.5 61.5 C 148.5 64.5 148.5 64.5 145.5 64.5 L 79.5 64.5 73.5 70.5 67.5 64.5 3.5 64.5 C 0.5 64.5 0.5 64.5 0.5 61.5 L 0.5 3.5 C 0.5 0.5 0.5 0.5 3.5 0.5\" isShadow=\"true\" stroke=\"black\" stroke-opacity=\"0.15\" stroke-width=\"1\" transform=\"translate(1, 1)\"></path><path fill=\"rgba(249, 249, 249, .85)\" d=\"M 3.5 0.5 L 145.5 0.5 C 148.5 0.5 148.5 0.5 148.5 3.5 L 148.5 61.5 C 148.5 64.5 148.5 64.5 145.5 64.5 L 79.5 64.5 73.5 70.5 67.5 64.5 3.5 64.5 C 0.5 64.5 0.5 64.5 0.5 61.5 L 0.5 3.5 C 0.5 0.5 0.5 0.5 3.5 0.5\" stroke=\"#7cb5ec\" stroke-width=\"1\"></path><text x=\"8\" style=\"font-size:12px;color:#333333;fill:#333333;\" y=\"20\"><tspan style=\"font-weight:bold\">Knob Position</tspan><tspan x=\"8\" dy=\"15\">2022-01-04 11:20:24</tspan><tspan x=\"8\" dy=\"15\">539.55</tspan></text></g><text x=\"974\" text-anchor=\"end\" style=\"cursor:pointer;color:#909090;font-size:9px;fill:#909090;\" y=\"360\">Highcharts.com</text></svg></div></div>\n",
       "        "
      ]
     },
     "output_type": "display_data"
    }
   ],
   "source": [
    "# Put the Python code here....\n",
    "import RPi.GPIO as GPIO\n",
    "\n",
    "from pyfirmata import Arduino, util\n",
    "from time import *\n",
    "\n",
    "import chestnut.graph as graph\n",
    "\n",
    "analog_value = None\n",
    "\n",
    "board = Arduino('/dev/ttyUSB0')\n",
    "util.Iterator(board).start()\n",
    "\n",
    "board.analog[0].enable_reporting()\n",
    "\n",
    "\n",
    "print('')\n",
    "GPIO.setmode(GPIO.BCM)\n",
    "GPIO.setup(18, GPIO.OUT)\n",
    "GPIO.setup(27, GPIO.OUT)\n",
    "GPIO.setup(22, GPIO.OUT)\n",
    "GPIO.setup(23, GPIO.OUT)\n",
    "GPIO.setup(24, GPIO.OUT)\n",
    "sleep(1)\n",
    "chart = graph.Line(['Knob Position'])\n",
    "while True:\n",
    "  sleep(1)\n",
    "  analog_value = board.analog[0].read()\n",
    "  analog_value = analog_value * 1024\n",
    "  chart.update([analog_value])\n",
    "  if analog_value > 300:\n",
    "    GPIO.output(18, True)\n",
    "  else:\n",
    "    GPIO.output(18, False)\n",
    "  if analog_value > 500:\n",
    "    GPIO.output(27, True)\n",
    "  else:\n",
    "    GPIO.output(27, False)\n",
    "  if analog_value > 700:\n",
    "    GPIO.output(22, True)\n",
    "  else:\n",
    "    GPIO.output(22, False)\n",
    "  if analog_value > 900:\n",
    "    GPIO.output(23, True)\n",
    "  else:\n",
    "    GPIO.output(23, False)\n",
    "  if analog_value > 1000:\n",
    "    GPIO.output(24, True)\n",
    "  else:\n",
    "    GPIO.output(24, False)\n"
   ]
  },
  {
   "cell_type": "markdown",
   "metadata": {
    "collapsed": true
   },
   "source": [
    "###### &copy; 2017 Cisco and/or its affiliates. All rights reserved. This document is Cisco Public."
   ]
  }
 ],
 "metadata": {
  "anaconda-cloud": {},
  "kernelspec": {
   "display_name": "Python 3",
   "language": "python",
   "name": "python3"
  },
  "language_info": {
   "codemirror_mode": {
    "name": "ipython",
    "version": 3
   },
   "file_extension": ".py",
   "mimetype": "text/x-python",
   "name": "python",
   "nbconvert_exporter": "python",
   "pygments_lexer": "ipython3",
   "version": "3.7.3"
  }
 },
 "nbformat": 4,
 "nbformat_minor": 1
}
