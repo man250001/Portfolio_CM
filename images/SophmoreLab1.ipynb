{
 "cells": [
  {
   "cell_type": "markdown",
   "metadata": {},
   "source": [
    "![Cisco Networking Academy](images/cisco.png)"
   ]
  },
  {
   "cell_type": "markdown",
   "metadata": {},
   "source": [
    "# Lab: Blinking an LED using Raspberry Pi and PL-App\n",
    "\n",
    "![Topology](images/topology.png)\n",
    "\n",
    "### Objectives\n",
    " * Part 1: Setting up the Prototyping Lab with the Raspberry Pi\n",
    " * Part 2: Set up the PL-App Application\n",
    " * Part 3: (Challenge) Implement an International Morse code Help Signaler\n",
    "\n",
    "### Background / Scenario \n",
    "In this lab you will learn more about how the Raspberry Pi can be used together with the PL-App to write an application that interacts with external electronics using the GPIO ports on the Raspberry Pi. In Part 1, you will build a simple circuit with an external LED that is connected to the GPIO ports on the Raspberry PI. In Part 2, you will use the PL-App visual programming tool, Blockly, to create a program to that will blink the LED when uploaded and run on the Raspberry Pi.\n",
    "\n",
    "Part 3 challenges you to modify the Blockly code to have the LED blink the International Morse code signal for help.\n",
    "\n",
    "### \tRequired Resources\n",
    " * PC with Internet Access\n",
    " * Raspberry Pi with power cable and either a wired or wireless network connection\n",
    " * Raspberry Pi that is configured and imaged for PL-App access"
   ]
  },
  {
   "cell_type": "markdown",
   "metadata": {},
   "source": [
    "## Part 1:\tSetting up the Prototyping Lab with the Raspberry Pi\n",
    "It is important to know how the GPIO pins on the Raspberry Pi are numbered and accessed. The Raspberry Pi 3 model B uses 3 different **pin numbering schemes** described in the figure below. The recommended one is the **BCM** pin numbering scheme:\n",
    "\n",
    "![Raspberry Pi Pinout](images/Raspberry_Pi_3_Model_B_pinout.png)\n",
    "\n",
    "### Step 1:\tBuild the prototyping circuit on the breadboard.\n",
    "Note: The Raspberry Pi should not be powered on when building the prototyping circuit.\n",
    " 1.\tSelect 1 – 330 Ohm (Ω) resistor, 1 LED, 1 red jumper wire, 1 black jumper wire from the Raspberry Pi starter kit.\n",
    " 2.\tInsert the LED onto the breadboard. The cathode leg is connected to c13 and the anode leg is to be connected c14. \n",
    " 3.\tInsert the resistor onto the breadboard into the b9 and b13 connectors.\n",
    "\n",
    "### Step 2:\tComplete the prototyping circuit by connecting it to the Raspberry Pi.\n",
    "Note: The GPIO pins on the Raspberry Pi are male. If available, use male to Female jumper wires to connect from the breadboard to the Raspberry Pi. Otherwise, use the GPIO ribbon cable, provided in the starter kit, to convert the GPIO pins to female connectors.\n",
    " 1.\tConnect one end of the black jumper wire to the breadboard a9 connector and the other end to GPIO Physical pin 9 on the Raspberry Pi. \n",
    " 2.\tConnect one end of the red jumper wire to the breadboard a14 connector and the other end to GPIO Physical pin 11 (BCM17) on the Raspberry Pi.\n",
    " \n",
    "![Raspberry Pi  with LED and Breadboard](images/rpi_gpio_breadboard_led.png)"
   ]
  },
  {
   "cell_type": "markdown",
   "metadata": {},
   "source": [
    "## Part 2:\tSet up the PL-App Application\n",
    " \n",
    "### Step 1:\tCreate a Visual (Blockly) Programming cell.\n",
    " **a.**\tEnter the Code cell below and turn it from a default Python code cell to a Visual Programming cell by clicking on the **Blockly icon** in the toolbar.\n",
    "![Chestnut Toolbar with Blockly](images/chestnut_toolbar_blockly.png)"
   ]
  },
  {
   "cell_type": "code",
   "execution_count": null,
   "metadata": {
    "blockly": {
     "display": true,
     "save": "<xml xmlns=\"http://www.w3.org/1999/xhtml\"><block type=\"text_print\" x=\"91\" y=\"70\"><value name=\"TEXT\"><block type=\"text\"><field name=\"TEXT\">Led on pin BCM 17 should blink</field></block></value><next><block type=\"gpio_setmode\"><field name=\"mode\">GPIO.BCM</field><next><block type=\"gpio_setup\"><field name=\"mode\">GPIO.OUT</field><value name=\"channel\"><block type=\"math_number\"><field name=\"NUM\">17</field></block></value><next><block type=\"controls_whileUntil\"><field name=\"MODE\">WHILE</field><value name=\"BOOL\"><block type=\"logic_boolean\"><field name=\"BOOL\">TRUE</field></block></value><statement name=\"DO\"><block type=\"gpio_output\"><value name=\"channel\"><block type=\"math_number\"><field name=\"NUM\">17</field></block></value><value name=\"state\"><block type=\"logic_boolean\"><field name=\"BOOL\">TRUE</field></block></value><next><block type=\"time_sleep\"><value name=\"seconds\"><block type=\"math_number\"><field name=\"NUM\">0.5</field></block></value><next><block type=\"gpio_output\"><value name=\"channel\"><block type=\"math_number\"><field name=\"NUM\">17</field></block></value><value name=\"state\"><block type=\"logic_boolean\"><field name=\"BOOL\">FALSE</field></block></value><next><block type=\"time_sleep\"><value name=\"seconds\"><block type=\"math_number\"><field name=\"NUM\">0.5</field></block></value></block></next></block></next></block></next></block></statement></block></next></block></next></block></next></block></xml>"
    }
   },
   "outputs": [
    {
     "name": "stdout",
     "output_type": "stream",
     "text": [
      "Led on pin BCM 17 should blink\n"
     ]
    }
   ],
   "source": [
    "import RPi.GPIO as GPIO\n",
    "\n",
    "from time import *\n",
    "\n",
    "\n",
    "print('Led on pin BCM 17 should blink')\n",
    "GPIO.setmode(GPIO.BCM)\n",
    "GPIO.setup(17, GPIO.OUT)\n",
    "while True:\n",
    "  GPIO.output(17, True)\n",
    "  sleep(0.5)\n",
    "  GPIO.output(17, False)\n",
    "  sleep(0.5)\n"
   ]
  },
  {
   "cell_type": "markdown",
   "metadata": {},
   "source": [
    "### Step 3: Create a Visual (Blockly) program\n",
    " 1.\tThe code cell now supports Visual Programming using Blockly. Add a new **Print** block and **Text** block to the canvas.\n",
    "![Blockly Interface](images/blockly1.png)\n",
    " \n",
    " 2. Connect the **Text** block to the **Print** block. Add to the **Text** block the follwing text: `Led on pin BCM 17 should blink`\n",
    "![Blockly print text](images/blockly2.png)\n",
    "\n",
    " 3.\tTo control the GPIO pins of the Raspberry Pi, first you need to configure the **pin numbering scheme** to **BCM**. From the Blockly  **Pin Access** menu, select the **set mode to** block and add right after the **print** block. Change its value to **BCM**.\n",
    "![Blockly pin mode](images/blockly3.png)\n",
    "\n",
    " 4. Configure the GPIO pin where the LED is physically connected (physical pin11/BCM17) to be an **OUTput** type. Select the **setup channel** block from the **Pin Access** menu and add it to the canvas. The first number - the channel - represents the GPIO pin (with the specified pin numbering scheme - defined with the block before to be BCM) you want to configure (BCM17), while the second parameter is the direction - OUTput or INput - of that pin. Since we want to control the state of the LED from the Raspberry Pi, the mode is in this case **OUTput**.\n",
    "![Blockly setup channel](images/blockly_setup_channel.png)\n",
    "\n",
    " 5.\tAdd a **repeat while** loop by selecting **Program->Loops**, and move it to the canvas.\n",
    "![Blockly print text](images/blockly4.png)\n",
    "\n",
    " 6.\tSelect **Program->Logic** and drag the **true** block to the end of the repeat **while** block.\n",
    "![Blockly print text](images/blockly5.png) \n",
    " \n",
    " 7. Add a **output to channel** block by selecting **Pin Access**. Drag the **output to channel** block inside the repeat while loop. From the **Program->Logic** menu, select the **true** block and add it to the **output to channel** block. This will turn on the GPIO pin and provide 3.3V to power the LED.\n",
    "![Blockly output_to_channel](images/blockly2_output_to_channel.png)\n",
    "\n",
    " 8.\tAdd a delay block by selecting from the **Time** menu the **sleep** block to generate a delay between the execution of the blocks. Drag it inside the repeat while loop below the **output to channel** block. Set the delay to 0.5 seconds.\n",
    "![Blockly sleep](images/blockly_sleep.png)\n",
    "\n",
    " 9.\tRight click on the **output to channel** and **sleep** blocks to *duplicate* them.\n",
    " 10. For the duplicated **output to channel** block, change the state to **false**.\n",
    "![Blockly complete](images/blockly_complete.png)\n",
    " \n",
    " 11. Examine the generated Python script on the right side of the Visual Programming code cell.\n",
    "\n",
    "### Step 4:\tRun the Application.\n",
    " 1.\tIn the code cell, click on the **Play** button at the top left corner of the cell. The Python code will be executed on the Raspberry Pi and the LED should start blinking.\n",
    "![Play button](images/playButton.png)\n",
    "Note: If the LED does not blink, disconnect the Raspberry Pi from its power source before troubleshooting the circuit.\n",
    " 2.\tClick the **Stop** button to stop the program.\n",
    "Note: Depending on the cycle in the program the LED may continue to illuminate even though the program has terminated. Try restarting the application and stopping again during the off cycle."
   ]
  },
  {
   "cell_type": "markdown",
   "metadata": {},
   "source": [
    "## Part 3:\t(Challenge) Implement an International Morse code Help Signaler\n",
    "Modify the Blockly program you created in Part 2 to have the LED blink the International Morse code signal for help (SOS). Hint: Review the unit lengths listed in the chart.\n",
    "![Morse code](images/morse_code.png)\n",
    "\n",
    "## Reflection:\n",
    "Look at the various options under the Blockly Program->Loops controls. How might the application be modified to have the program execute the loop for a defined number of times or based on a periodic interval as opposed to quitting the application?  use a repeat __ times block\n"
   ]
  },
  {
   "cell_type": "markdown",
   "metadata": {
    "collapsed": true
   },
   "source": [
    "###### &copy; 2017 Cisco and/or its affiliates. All rights reserved. This document is Cisco Public."
   ]
  }
 ],
 "metadata": {
  "anaconda-cloud": {},
  "kernelspec": {
   "display_name": "Python 3",
   "language": "python",
   "name": "python3"
  },
  "language_info": {
   "codemirror_mode": {
    "name": "ipython",
    "version": 3
   },
   "file_extension": ".py",
   "mimetype": "text/x-python",
   "name": "python",
   "nbconvert_exporter": "python",
   "pygments_lexer": "ipython3",
   "version": "3.7.3"
  }
 },
 "nbformat": 4,
 "nbformat_minor": 1
}
